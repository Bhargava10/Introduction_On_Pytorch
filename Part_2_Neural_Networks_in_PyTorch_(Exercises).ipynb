{
  "nbformat": 4,
  "nbformat_minor": 0,
  "metadata": {
    "kernelspec": {
      "display_name": "Python [default]",
      "language": "python",
      "name": "python3"
    },
    "language_info": {
      "codemirror_mode": {
        "name": "ipython",
        "version": 3
      },
      "file_extension": ".py",
      "mimetype": "text/x-python",
      "name": "python",
      "nbconvert_exporter": "python",
      "pygments_lexer": "ipython3",
      "version": "3.6.4"
    },
    "colab": {
      "name": "Part 2 - Neural Networks in PyTorch (Exercises).ipynb",
      "provenance": []
    }
  },
  "cells": [
    {
      "cell_type": "markdown",
      "metadata": {
        "id": "0w-BHOO7KNBz",
        "colab_type": "text"
      },
      "source": [
        "# Neural networks with PyTorch\n",
        "\n",
        "Deep learning networks tend to be massive with dozens or hundreds of layers, that's where the term \"deep\" comes from. You can build one of these deep networks using only weight matrices as we did in the previous notebook, but in general it's very cumbersome and difficult to implement. PyTorch has a nice module `nn` that provides a nice way to efficiently build large neural networks."
      ]
    },
    {
      "cell_type": "code",
      "metadata": {
        "id": "hKMQ3unAKNB5",
        "colab_type": "code",
        "colab": {}
      },
      "source": [
        "# Import necessary packages\n",
        "\n",
        "%matplotlib inline\n",
        "%config InlineBackend.figure_format = 'retina'\n",
        "\n",
        "import numpy as np\n",
        "import torch\n",
        "\n",
        "import helper\n",
        "\n",
        "import matplotlib.pyplot as plt"
      ],
      "execution_count": 0,
      "outputs": []
    },
    {
      "cell_type": "markdown",
      "metadata": {
        "id": "EdLkFdT-KNCA",
        "colab_type": "text"
      },
      "source": [
        "\n",
        "Now we're going to build a larger network that can solve a (formerly) difficult problem, identifying text in an image. Here we'll use the MNIST dataset which consists of greyscale handwritten digits. Each image is 28x28 pixels, you can see a sample below\n",
        "\n",
        "<img src='https://github.com/udacity/deep-learning-v2-pytorch/blob/master/intro-to-pytorch/assets/mnist.png?raw=1'>\n",
        "\n",
        "Our goal is to build a neural network that can take one of these images and predict the digit in the image.\n",
        "\n",
        "First up, we need to get our dataset. This is provided through the `torchvision` package. The code below will download the MNIST dataset, then create training and test datasets for us. Don't worry too much about the details here, you'll learn more about this later."
      ]
    },
    {
      "cell_type": "code",
      "metadata": {
        "id": "HEm83UzeKNCC",
        "colab_type": "code",
        "colab": {
          "base_uri": "https://localhost:8080/",
          "height": 272
        },
        "outputId": "cdddd656-1731-472a-9277-ea85a43e819b"
      },
      "source": [
        "### Run this cell\n",
        "\n",
        "from torchvision import datasets, transforms\n",
        "\n",
        "# Define a transform to normalize the data\n",
        "transform = transforms.Compose([transforms.ToTensor(),\n",
        "                              transforms.Normalize((0.5,), (0.5,)),\n",
        "                              ])\n",
        "\n",
        "# Download and load the training data\n",
        "trainset = datasets.MNIST('~/.pytorch/MNIST_data/', download=True, train=True, transform=transform)\n",
        "trainloader = torch.utils.data.DataLoader(trainset, batch_size=64, shuffle=True)"
      ],
      "execution_count": 2,
      "outputs": [
        {
          "output_type": "stream",
          "text": [
            "\r0it [00:00, ?it/s]"
          ],
          "name": "stderr"
        },
        {
          "output_type": "stream",
          "text": [
            "Downloading http://yann.lecun.com/exdb/mnist/train-images-idx3-ubyte.gz to /root/.pytorch/MNIST_data/MNIST/raw/train-images-idx3-ubyte.gz\n"
          ],
          "name": "stdout"
        },
        {
          "output_type": "stream",
          "text": [
            "9920512it [00:05, 1851446.72it/s]                             \n"
          ],
          "name": "stderr"
        },
        {
          "output_type": "stream",
          "text": [
            "Extracting /root/.pytorch/MNIST_data/MNIST/raw/train-images-idx3-ubyte.gz to /root/.pytorch/MNIST_data/MNIST/raw\n"
          ],
          "name": "stdout"
        },
        {
          "output_type": "stream",
          "text": [
            "32768it [00:00, 443195.63it/s]\n",
            "  1%|          | 16384/1648877 [00:00<00:11, 147265.70it/s]"
          ],
          "name": "stderr"
        },
        {
          "output_type": "stream",
          "text": [
            "Downloading http://yann.lecun.com/exdb/mnist/train-labels-idx1-ubyte.gz to /root/.pytorch/MNIST_data/MNIST/raw/train-labels-idx1-ubyte.gz\n",
            "Extracting /root/.pytorch/MNIST_data/MNIST/raw/train-labels-idx1-ubyte.gz to /root/.pytorch/MNIST_data/MNIST/raw\n",
            "Downloading http://yann.lecun.com/exdb/mnist/t10k-images-idx3-ubyte.gz to /root/.pytorch/MNIST_data/MNIST/raw/t10k-images-idx3-ubyte.gz\n"
          ],
          "name": "stdout"
        },
        {
          "output_type": "stream",
          "text": [
            "1654784it [00:00, 7823590.65it/s]                          \n",
            "8192it [00:00, 180629.68it/s]\n"
          ],
          "name": "stderr"
        },
        {
          "output_type": "stream",
          "text": [
            "Extracting /root/.pytorch/MNIST_data/MNIST/raw/t10k-images-idx3-ubyte.gz to /root/.pytorch/MNIST_data/MNIST/raw\n",
            "Downloading http://yann.lecun.com/exdb/mnist/t10k-labels-idx1-ubyte.gz to /root/.pytorch/MNIST_data/MNIST/raw/t10k-labels-idx1-ubyte.gz\n",
            "Extracting /root/.pytorch/MNIST_data/MNIST/raw/t10k-labels-idx1-ubyte.gz to /root/.pytorch/MNIST_data/MNIST/raw\n",
            "Processing...\n",
            "Done!\n"
          ],
          "name": "stdout"
        }
      ]
    },
    {
      "cell_type": "markdown",
      "metadata": {
        "id": "ZDifvM3DKNCJ",
        "colab_type": "text"
      },
      "source": [
        "We have the training data loaded into `trainloader` and we make that an iterator with `iter(trainloader)`. Later, we'll use this to loop through the dataset for training, like\n",
        "\n",
        "```python\n",
        "for image, label in trainloader:\n",
        "    ## do things with images and labels\n",
        "```\n",
        "\n",
        "You'll notice I created the `trainloader` with a batch size of 64, and `shuffle=True`. The batch size is the number of images we get in one iteration from the data loader and pass through our network, often called a *batch*. And `shuffle=True` tells it to shuffle the dataset every time we start going through the data loader again. But here I'm just grabbing the first batch so we can check out the data. We can see below that `images` is just a tensor with size `(64, 1, 28, 28)`. So, 64 images per batch, 1 color channel, and 28x28 images."
      ]
    },
    {
      "cell_type": "code",
      "metadata": {
        "id": "c5XXKLkfKNCL",
        "colab_type": "code",
        "colab": {
          "base_uri": "https://localhost:8080/",
          "height": 67
        },
        "outputId": "d162b622-36a9-4b23-c794-c51f93444f74"
      },
      "source": [
        "dataiter = iter(trainloader)\n",
        "images, labels = dataiter.next()\n",
        "print(type(images))\n",
        "print(images.shape)\n",
        "print(labels.shape)"
      ],
      "execution_count": 3,
      "outputs": [
        {
          "output_type": "stream",
          "text": [
            "<class 'torch.Tensor'>\n",
            "torch.Size([64, 1, 28, 28])\n",
            "torch.Size([64])\n"
          ],
          "name": "stdout"
        }
      ]
    },
    {
      "cell_type": "markdown",
      "metadata": {
        "id": "8gL89ZIFKNCQ",
        "colab_type": "text"
      },
      "source": [
        "This is what one of the images looks like. "
      ]
    },
    {
      "cell_type": "code",
      "metadata": {
        "id": "sGekVtK7KNCR",
        "colab_type": "code",
        "colab": {
          "base_uri": "https://localhost:8080/",
          "height": 265
        },
        "outputId": "a9be68bc-ac92-4d90-adf3-99e6275f1356"
      },
      "source": [
        "plt.imshow(images[1].numpy().squeeze(), cmap='Greys_r');"
      ],
      "execution_count": 4,
      "outputs": [
        {
          "output_type": "display_data",
          "data": {
            "image/png": "[encoded data removed]",
            "text/plain": [
              "<Figure size 432x288 with 1 Axes>"
            ]
          },
          "metadata": {
            "tags": [],
            "image/png": {
              "width": 251,
              "height": 248
            }
          }
        }
      ]
    },
    {
      "cell_type": "markdown",
      "metadata": {
        "id": "vhUhQsvDKNCX",
        "colab_type": "text"
      },
      "source": [
        "First, let's try to build a simple network for this dataset using weight matrices and matrix multiplications. Then, we'll see how to do it using PyTorch's `nn` module which provides a much more convenient and powerful method for defining network architectures.\n",
        "\n",
        "The networks you've seen so far are called *fully-connected* or *dense* networks. Each unit in one layer is connected to each unit in the next layer. In fully-connected networks, the input to each layer must be a one-dimensional vector (which can be stacked into a 2D tensor as a batch of multiple examples). However, our images are 28x28 2D tensors, so we need to convert them into 1D vectors. Thinking about sizes, we need to convert the batch of images with shape `(64, 1, 28, 28)` to a have a shape of `(64, 784)`, 784 is 28 times 28. This is typically called *flattening*, we flattened the 2D images into 1D vectors.\n",
        "\n",
        "Previously you built a network with one output unit. Here we need 10 output units, one for each digit. We want our network to predict the digit shown in an image, so what we'll do is calculate probabilities that the image is of any one digit or class. This ends up being a discrete probability distribution over the classes (digits) that tells us the most likely class for the image. That means we need 10 output units for the 10 classes (digits). We'll see how to convert the network output into a probability distribution next.\n",
        "\n",
        "> **Exercise:** Flatten the batch of images `images`. Then build a multi-layer network with 784 input units, 256 hidden units, and 10 output units using random tensors for the weights and biases. For now, use a sigmoid activation for the hidden layer. Leave the output layer without an activation, we'll add one that gives us a probability distribution next."
      ]
    },
    {
      "cell_type": "code",
      "metadata": {
        "id": "TcImWM9pKNCZ",
        "colab_type": "code",
        "colab": {}
      },
      "source": [
        "## Your solution\n",
        "def activation(x):\n",
        "  return 1/(1+torch.exp(-x))\n",
        "#flattening the input images\n",
        "#[0] gives no. of batches in img tensor, want to keep it same but want to flatten the rest of the dimensions,\n",
        "#to do that just put -1 (chooses approp dimension itself so after reshape also it have the same shape) or 784 itself\n",
        "inputs=images.view(images.shape[0],-1)  \n",
        "#create parameters\n",
        "w1=torch.randn(784,256)\n",
        "b1=torch.randn(256)\n",
        "w2=torch.randn(256,10)\n",
        "b2=torch.randn(10)\n",
        "h=activation(torch.mm(inputs,w1)+b1)\n",
        "out = torch.mm(h,w2)+b2 \n",
        "# output of your network, should have shape (64,10)"
      ],
      "execution_count": 0,
      "outputs": []
    },
    {
      "cell_type": "code",
      "metadata": {
        "id": "fNxQwUmoQmbM",
        "colab_type": "code",
        "colab": {
          "base_uri": "https://localhost:8080/",
          "height": 1000
        },
        "outputId": "242a64e4-1e4e-4005-f907-f6a984c233e4"
      },
      "source": [
        "print(out.shape)\n",
        "print(out)"
      ],
      "execution_count": 10,
      "outputs": [
        {
          "output_type": "stream",
          "text": [
            "torch.Size([64, 10])\n",
            "tensor([[ 1.8300e+01,  5.8193e+00,  4.4736e+00, -1.8854e+00, -1.1661e+01,\n",
            "          2.4349e+00,  1.4985e+01,  1.2218e+01, -2.8523e+00, -1.2408e+01],\n",
            "        [ 2.2662e+01, -1.4380e+00,  7.5018e+00, -4.5580e-01, -9.3534e+00,\n",
            "          9.8707e-01,  2.0595e+00,  8.8927e+00,  7.3548e+00, -2.2711e+01],\n",
            "        [ 1.3944e+01,  4.6897e-04, -7.8547e+00, -7.4179e+00, -2.2433e+01,\n",
            "         -1.6267e+00,  1.0806e+01,  9.2073e+00, -2.7219e+00, -2.8012e+00],\n",
            "        [ 2.1339e+01,  3.6109e+00, -4.4247e+00, -2.2212e+00, -1.1243e+01,\n",
            "         -1.9972e+00,  5.3971e+00, -7.3437e-01,  4.5058e+00, -1.1942e+01],\n",
            "        [ 1.7268e+01,  2.8902e+00, -7.3780e+00, -9.3654e+00, -1.2326e+01,\n",
            "          5.8074e+00,  5.4454e+00,  7.1068e+00,  2.7153e+00, -5.1534e+00],\n",
            "        [ 2.6348e+01,  1.2429e+01, -6.1790e+00, -4.2755e+00, -1.5447e+01,\n",
            "         -2.8903e+00,  7.4794e+00,  5.7330e+00, -7.8082e+00, -6.1569e+00],\n",
            "        [ 2.4134e+01,  5.0066e+00, -2.1655e+00, -8.4595e+00, -2.4281e+01,\n",
            "          7.3752e-01, -3.9362e+00,  1.7679e+00, -3.8377e+00, -1.5713e+01],\n",
            "        [ 4.3990e+00,  1.4904e-01,  4.0504e+00,  4.6445e-01, -2.7302e+01,\n",
            "          4.9034e+00, -7.3916e+00, -3.3547e+00,  2.5560e+00, -1.0116e+01],\n",
            "        [ 1.4609e+01,  6.2651e+00, -4.9468e+00, -1.6189e+00, -1.4669e+01,\n",
            "         -4.4209e+00, -1.1382e-01,  1.0923e+01, -3.9041e+00, -5.8337e+00],\n",
            "        [ 2.1152e+01,  4.8218e-02, -4.9928e+00,  2.5146e+00, -1.8789e+01,\n",
            "         -7.6017e-01,  6.0156e+00,  9.9133e+00,  2.2822e+00, -1.4857e+01],\n",
            "        [ 3.0015e+01,  4.6342e+00, -7.3370e+00, -1.8869e+00, -2.6520e+01,\n",
            "         -4.0254e+00,  6.4730e+00,  1.7261e-02, -2.5437e+00, -1.3619e+01],\n",
            "        [ 1.3859e+01, -6.7324e+00, -8.0090e+00, -1.0218e+01, -1.0154e+01,\n",
            "          8.4067e+00, -4.2566e+00,  5.3039e+00, -5.7815e+00, -7.2096e+00],\n",
            "        [ 2.5597e+01,  1.2453e+01,  3.1590e+00, -1.0713e+01, -1.3420e+01,\n",
            "          4.8825e+00, -2.8502e-01,  7.1435e+00,  8.4712e+00, -1.4240e+01],\n",
            "        [ 1.6386e+01,  9.4147e-01, -7.7058e+00, -1.1458e+00, -1.3983e+01,\n",
            "         -1.4312e+00,  7.1157e+00,  8.2842e-01,  7.3594e+00, -8.3894e+00],\n",
            "        [ 1.5861e+01, -1.4795e+00,  5.4231e+00,  3.8079e+00, -1.3122e+01,\n",
            "          4.1450e+00,  1.1305e+01,  8.9113e+00,  1.2378e+00, -9.8945e+00],\n",
            "        [ 1.2496e+01, -5.4209e+00, -8.4879e+00, -5.5164e+00, -2.1080e+01,\n",
            "         -3.3558e+00,  7.1439e+00,  1.4444e+01, -1.5256e+01,  3.0169e+00],\n",
            "        [ 3.0801e+01,  4.8617e+00, -6.8190e+00,  3.3084e+00, -2.5699e+01,\n",
            "         -1.3975e+01, -2.1317e+00,  3.3098e+00,  6.2664e+00, -1.7883e+01],\n",
            "        [ 1.6877e+01, -4.6301e-01,  3.2606e+00,  4.0776e-01, -2.1162e+01,\n",
            "         -5.0842e+00,  2.7116e+00,  6.6755e+00,  3.5348e+00, -1.2050e+01],\n",
            "        [ 2.1220e+01,  5.4530e+00, -3.6269e+00,  3.7872e+00, -1.5099e+01,\n",
            "          4.9429e+00,  1.0365e+01,  4.4876e+00,  1.1390e+01, -6.3872e+00],\n",
            "        [ 2.1779e+01, -9.1353e-02,  3.1804e-01,  3.6293e+00, -2.1780e+01,\n",
            "          4.1760e-01,  2.9787e+00, -1.2103e+00,  9.9113e+00, -1.4332e+01],\n",
            "        [ 8.9400e+00,  1.2188e+00, -1.0289e+01,  5.2006e-02, -1.1622e+01,\n",
            "          6.1219e-01,  1.2762e+00,  1.1767e+01,  8.2256e+00, -8.9379e+00],\n",
            "        [ 1.6776e+01,  2.0911e+00, -5.5894e-01, -4.2813e+00, -1.1388e+01,\n",
            "          2.8982e+00,  4.9691e+00,  6.2309e+00,  2.3582e+00, -1.2070e+01],\n",
            "        [ 8.0627e+00,  2.8610e+00, -1.0091e+01, -8.6535e-01, -1.9105e+01,\n",
            "          5.0501e+00, -6.6865e-01,  2.6162e+00, -7.5488e-01, -5.0880e+00],\n",
            "        [ 1.4598e+01,  6.8475e+00, -4.9075e+00, -3.9843e+00, -2.0165e+01,\n",
            "          2.1414e+00,  2.6932e+00,  9.9831e+00, -3.2152e+00, -4.6980e-01],\n",
            "        [ 1.2584e+01,  8.3317e+00,  5.3237e-01, -1.2347e+00, -1.5759e+01,\n",
            "          2.8817e+00, -5.1386e-01,  1.5800e+01, -5.3457e+00, -1.0340e+01],\n",
            "        [ 2.6781e+01,  2.9136e+00, -3.3632e+00, -7.7250e+00, -1.5050e+01,\n",
            "          8.1439e+00,  6.2108e+00, -2.6579e+00,  2.9316e+00, -1.1122e+01],\n",
            "        [ 2.3762e+01,  9.2915e-01, -6.7170e+00, -3.2978e+00, -2.2293e+01,\n",
            "         -7.4982e-01,  3.8525e+00,  9.1848e+00, -5.3548e+00, -6.6672e+00],\n",
            "        [ 2.9917e+01, -2.9112e+00, -6.9274e+00, -2.4641e+00, -2.3220e+01,\n",
            "          3.4732e+00, -2.9606e+00,  3.0376e+00,  7.3971e+00, -2.3774e+01],\n",
            "        [ 2.0406e+01, -3.7306e+00,  3.4630e+00, -3.5533e+00, -1.1728e+01,\n",
            "          5.1851e+00,  3.4671e+00,  5.9651e+00,  5.1117e+00, -1.9993e+01],\n",
            "        [ 2.1991e+01, -1.8676e-01, -6.8341e+00, -3.4936e+00, -1.8083e+01,\n",
            "          5.1940e+00, -2.4329e+00, -4.9848e+00,  7.1440e-01, -1.4172e+01],\n",
            "        [ 7.7421e+00, -2.3895e+00, -6.5836e+00, -3.7583e+00, -9.5064e+00,\n",
            "         -1.2044e+00, -9.7068e+00,  5.4461e+00, -5.9019e+00, -1.3879e+01],\n",
            "        [ 1.4191e+01,  4.2512e+00, -3.2745e+00, -1.5625e+00, -1.6439e+01,\n",
            "          2.2034e+00,  1.8405e+00,  7.9084e+00, -7.8610e+00, -1.3666e+01],\n",
            "        [ 7.4716e+00,  6.5516e+00, -5.2218e+00, -2.4089e+00, -2.2271e+01,\n",
            "          1.1774e+01, -5.5285e+00,  1.0932e+01, -4.2594e+00, -8.7700e+00],\n",
            "        [ 1.7860e+01, -1.9493e+00, -9.3055e-01, -1.6350e+00, -1.2876e+01,\n",
            "          6.6174e+00, -3.2272e+00, -6.5576e-01,  1.3131e+01, -1.2607e+01],\n",
            "        [ 2.8138e+01,  5.7938e+00, -5.9145e+00, -1.9555e+00, -2.7019e+01,\n",
            "         -3.9766e+00, -4.0400e+00,  1.5170e+01, -5.8426e+00, -1.7692e+01],\n",
            "        [ 8.2069e+00, -7.8493e+00, -2.9027e-01, -7.9415e+00, -1.9270e+01,\n",
            "          9.7156e+00, -2.0088e+00,  1.8793e-01,  1.1526e+01, -1.1981e+01],\n",
            "        [ 2.2298e+01,  2.1105e+00, -2.5749e+00, -9.5950e+00, -2.2771e+01,\n",
            "         -2.7219e-02, -5.9201e+00,  1.1256e+01, -3.9167e+00, -5.5523e+00],\n",
            "        [ 1.2336e+01,  1.7434e+00, -4.0696e+00,  7.8690e+00, -2.3021e+01,\n",
            "         -7.7711e-01, -1.6834e+00,  1.9636e+01, -5.4102e+00, -1.7749e+01],\n",
            "        [ 6.7450e+00,  1.0440e+01, -8.2869e+00,  1.8267e+00, -2.4397e+01,\n",
            "          4.8230e+00, -6.0384e+00,  1.2558e+01,  5.6133e+00, -1.2791e+01],\n",
            "        [ 1.0738e+01,  4.0261e+00, -3.6468e+00, -7.0418e+00, -1.4429e+01,\n",
            "         -2.7459e+00,  2.1277e+00,  1.0549e+01, -4.5650e+00,  5.3474e-01],\n",
            "        [ 1.4476e+01, -4.6460e+00, -4.0589e+00, -1.4764e+00, -2.2692e+01,\n",
            "          5.6152e+00, -3.9178e+00,  6.5259e-01,  1.0717e+01, -2.5380e+01],\n",
            "        [ 1.5471e+01,  3.9294e+00, -5.5732e+00, -3.3544e+00, -1.8363e+01,\n",
            "          6.7537e+00, -4.0408e+00,  7.3088e+00, -1.2267e+01, -5.3643e+00],\n",
            "        [ 2.1187e+01,  5.7623e+00, -2.0435e+00,  7.0722e-01, -1.5332e+01,\n",
            "          1.0744e+00,  1.6522e+00,  7.9748e+00, -4.4885e+00, -7.1581e+00],\n",
            "        [ 2.5943e+01,  6.9151e+00,  1.5687e+00,  3.5325e+00, -1.2127e+01,\n",
            "          3.6944e+00, -4.5421e+00,  8.1325e+00, -2.8717e+00, -6.6452e+00],\n",
            "        [ 2.1494e+01,  2.9817e+00, -8.3911e+00, -4.1570e+00, -2.1203e+01,\n",
            "         -9.4790e-01,  2.4128e+00,  3.9285e+00,  1.9221e+00, -6.3285e+00],\n",
            "        [ 2.1286e+01,  1.1409e+01,  3.4006e-01, -3.2575e+00, -2.2577e+01,\n",
            "          5.2647e+00,  6.5002e+00,  1.0486e+01, -6.1609e+00, -1.2712e+01],\n",
            "        [ 1.1968e+01,  8.3922e+00, -1.5589e+00, -2.3289e-01, -1.6635e+01,\n",
            "         -8.1747e-01,  3.1105e+00,  1.3627e+01, -4.2043e+00, -2.4653e+00],\n",
            "        [ 1.3344e+01,  3.9228e+00, -4.8778e-01, -3.1701e+00, -2.1614e+01,\n",
            "          7.9563e+00,  5.0213e+00,  5.1782e+00, -6.9905e-01, -6.8993e+00],\n",
            "        [ 2.1553e+01, -2.6486e+00, -2.8544e+00,  3.4420e+00, -2.0654e+01,\n",
            "          3.2864e-02, -6.5293e+00, -2.8640e+00, -1.2913e+01, -1.3777e+01],\n",
            "        [ 1.4385e+01,  3.3198e+00, -1.1595e+00,  1.2011e+00, -2.0479e+01,\n",
            "          4.5004e+00,  6.2490e+00,  8.2002e+00,  3.1229e+00, -5.1832e+00],\n",
            "        [ 4.4499e+00,  3.0767e+00, -4.8759e+00, -2.5400e+00, -1.1828e+01,\n",
            "          8.0091e+00, -4.7248e+00,  9.3686e+00,  1.1529e+00, -1.7946e+01],\n",
            "        [ 9.2963e+00,  1.1530e+01, -3.4945e+00, -5.8017e+00, -2.5139e+01,\n",
            "         -6.2148e+00, -9.5485e+00,  1.5853e+01, -4.8096e+00, -9.3351e+00],\n",
            "        [ 1.0642e+01,  6.0738e+00, -1.2391e+01, -6.7683e+00, -1.0417e+01,\n",
            "          4.6974e+00,  9.7471e+00,  2.9795e+00, -1.6638e+00, -3.2297e+00],\n",
            "        [ 1.2211e+01, -4.8364e-03,  1.1417e+00, -9.4558e-01, -2.7476e+01,\n",
            "          6.4560e+00,  2.4229e+00,  8.7288e-01,  2.9532e+00, -2.3617e+01],\n",
            "        [ 1.6759e+01,  1.5937e+00, -1.8366e+00,  4.9016e+00, -1.9530e+01,\n",
            "         -5.6491e+00, -4.4523e+00,  5.1068e+00, -4.3018e+00, -6.0361e+00],\n",
            "        [ 1.7209e+01,  1.4324e+01, -4.6172e+00, -2.6175e+00, -1.3802e+01,\n",
            "          2.2039e+00,  4.1067e+00,  9.6052e+00, -1.8665e+00, -7.9897e+00],\n",
            "        [ 2.3443e+01,  4.3279e+00, -6.6376e+00, -3.3583e+00, -1.2980e+01,\n",
            "          7.4604e+00, -1.6162e-01,  1.6328e+01, -4.4202e+00, -1.2089e+01],\n",
            "        [ 1.8798e+01,  5.6198e+00, -3.9625e+00, -6.9750e+00, -2.0677e+01,\n",
            "          4.3963e+00,  8.0136e+00,  7.0530e+00,  2.0910e+00, -3.4748e+00],\n",
            "        [ 2.6327e+01,  6.1433e+00, -4.5368e+00, -7.4782e+00, -2.0989e+01,\n",
            "         -3.1634e+00,  9.2209e+00,  3.4008e+00, -7.4531e+00, -7.4526e+00],\n",
            "        [ 2.8030e+00,  2.3038e+00, -6.9389e+00, -7.6679e+00, -1.3909e+01,\n",
            "          8.2430e-01,  2.5943e-01,  8.1597e+00, -9.7632e-01, -8.9595e+00],\n",
            "        [ 1.6306e+01,  1.3784e+00, -2.8931e+00,  3.5679e+00, -1.8554e+01,\n",
            "          8.0406e-01,  4.4845e+00,  7.2070e+00,  2.4272e+00, -7.1986e+00],\n",
            "        [ 2.5425e+01,  4.6040e-01, -9.6255e+00, -2.6451e+00, -2.4699e+01,\n",
            "          3.1575e+00,  1.2903e+01,  1.2476e+00, -8.9988e+00, -7.0017e+00],\n",
            "        [ 1.7718e+01,  5.2926e-01, -1.6381e+00,  6.1308e+00, -2.2533e+01,\n",
            "          3.1612e+00, -1.7857e-01,  1.5806e+01, -2.0623e+00, -2.2732e+01],\n",
            "        [ 2.6458e+01,  7.4691e+00, -5.0611e+00, -7.5767e+00, -2.5014e+01,\n",
            "          9.1114e+00,  9.0734e+00,  1.0482e+01, -8.4795e+00, -6.4701e+00]])\n"
          ],
          "name": "stdout"
        }
      ]
    },
    {
      "cell_type": "markdown",
      "metadata": {
        "id": "CT96rVckKNCd",
        "colab_type": "text"
      },
      "source": [
        "Now we have 10 outputs for our network. We want to pass in an image to our network and get out a probability distribution over the classes that tells us the likely class(es) the image belongs to. Something that looks like this:\n",
        "<img src='https://github.com/udacity/deep-learning-v2-pytorch/blob/master/intro-to-pytorch/assets/image_distribution.png?raw=1' width=500px>\n",
        "\n",
        "Here we see that the probability for each class is roughly the same. This is representing an untrained network, it hasn't seen any data yet so it just returns a uniform distribution with equal probabilities for each class.\n",
        "\n",
        "To calculate this probability distribution, we often use the [**softmax** function](https://en.wikipedia.org/wiki/Softmax_function). Mathematically this looks like\n",
        "\n",
        "$$\n",
        "\\Large \\sigma(x_i) = \\cfrac{e^{x_i}}{\\sum_k^K{e^{x_k}}}\n",
        "$$\n",
        "\n",
        "What this does is squish each input $x_i$ between 0 and 1 and normalizes the values to give you a proper probability distribution where the probabilites sum up to one.\n",
        "\n",
        "> **Exercise:** Implement a function `softmax` that performs the softmax calculation and returns probability distributions for each example in the batch. Note that you'll need to pay attention to the shapes when doing this. If you have a tensor `a` with shape `(64, 10)` and a tensor `b` with shape `(64,)`, doing `a/b` will give you an error because PyTorch will try to do the division across the columns (called broadcasting) but you'll get a size mismatch. The way to think about this is for each of the 64 examples, you only want to divide by one value, the sum in the denominator. So you need `b` to have a shape of `(64, 1)`. This way PyTorch will divide the 10 values in each row of `a` by the one value in each row of `b`. Pay attention to how you take the sum as well. You'll need to define the `dim` keyword in `torch.sum`. Setting `dim=0` takes the sum across the rows while `dim=1` takes the sum across the columns."
      ]
    },
    {
      "cell_type": "code",
      "metadata": {
        "id": "O1NzhgxMKNCf",
        "colab_type": "code",
        "colab": {
          "base_uri": "https://localhost:8080/",
          "height": 168
        },
        "outputId": "ad972d43-a9af-4235-9b39-5b4f2d187dad"
      },
      "source": [
        "def softmax(x):\n",
        "    ## TODO: Implement the softmax function here\n",
        "    #sum across 1 single row so dim=1\n",
        "    return torch.exp(x)/torch.sum(torch.exp(x),dim=1).view(-1,1)\n",
        "\n",
        "# Here, out should be the output of the network in the previous excercise with shape (64,10)\n",
        "probabilities = softmax(out)\n",
        "\n",
        "# Does it have the right shape? Should be (64, 10)\n",
        "print(probabilities.shape)\n",
        "# Does it sum to 1?\n",
        "print(probabilities.sum(dim=1))"
      ],
      "execution_count": 11,
      "outputs": [
        {
          "output_type": "stream",
          "text": [
            "torch.Size([64, 10])\n",
            "tensor([1.0000, 1.0000, 1.0000, 1.0000, 1.0000, 1.0000, 1.0000, 1.0000, 1.0000,\n",
            "        1.0000, 1.0000, 1.0000, 1.0000, 1.0000, 1.0000, 1.0000, 1.0000, 1.0000,\n",
            "        1.0000, 1.0000, 1.0000, 1.0000, 1.0000, 1.0000, 1.0000, 1.0000, 1.0000,\n",
            "        1.0000, 1.0000, 1.0000, 1.0000, 1.0000, 1.0000, 1.0000, 1.0000, 1.0000,\n",
            "        1.0000, 1.0000, 1.0000, 1.0000, 1.0000, 1.0000, 1.0000, 1.0000, 1.0000,\n",
            "        1.0000, 1.0000, 1.0000, 1.0000, 1.0000, 1.0000, 1.0000, 1.0000, 1.0000,\n",
            "        1.0000, 1.0000, 1.0000, 1.0000, 1.0000, 1.0000, 1.0000, 1.0000, 1.0000,\n",
            "        1.0000])\n"
          ],
          "name": "stdout"
        }
      ]
    },
    {
      "cell_type": "markdown",
      "metadata": {
        "id": "-3RwQSb9KNCk",
        "colab_type": "text"
      },
      "source": [
        "## Building networks with PyTorch\n",
        "\n",
        "PyTorch provides a module `nn` that makes building networks much simpler. Here I'll show you how to build the same one as above with 784 inputs, 256 hidden units, 10 output units and a softmax output."
      ]
    },
    {
      "cell_type": "code",
      "metadata": {
        "id": "9LcFXflsKNCl",
        "colab_type": "code",
        "colab": {}
      },
      "source": [
        "from torch import nn"
      ],
      "execution_count": 0,
      "outputs": []
    },
    {
      "cell_type": "code",
      "metadata": {
        "id": "-MbYh1xlKNCq",
        "colab_type": "code",
        "colab": {}
      },
      "source": [
        "class Network(nn.Module):\n",
        "    def __init__(self):\n",
        "        #super and init method of nn.Module to register all the diff layers and ops thats goona be put in the nw\n",
        "        super().__init__()\n",
        "        \n",
        "        # Inputs to hidden layer linear transformation\n",
        "        self.hidden = nn.Linear(784, 256)\n",
        "        # Output layer, 10 units - one for each digit\n",
        "        self.output = nn.Linear(256, 10)\n",
        "        \n",
        "        # Define sigmoid activation and softmax output \n",
        "        self.sigmoid = nn.Sigmoid()\n",
        "        self.softmax = nn.Softmax(dim=1)\n",
        "        \n",
        "    def forward(self, x):\n",
        "        # Pass the input tensor through each of our operations\n",
        "        x = self.hidden(x)\n",
        "        x = self.sigmoid(x)\n",
        "        x = self.output(x)\n",
        "        x = self.softmax(x)\n",
        "        \n",
        "        return x"
      ],
      "execution_count": 0,
      "outputs": []
    },
    {
      "cell_type": "markdown",
      "metadata": {
        "id": "iX_OOMSrKNCv",
        "colab_type": "text"
      },
      "source": [
        "Let's go through this bit by bit.\n",
        "\n",
        "```python\n",
        "class Network(nn.Module):\n",
        "```\n",
        "\n",
        "Here we're inheriting from `nn.Module`. Combined with `super().__init__()` this creates a class that tracks the architecture and provides a lot of useful methods and attributes. It is mandatory to inherit from `nn.Module` when you're creating a class for your network. The name of the class itself can be anything.\n",
        "\n",
        "```python\n",
        "self.hidden = nn.Linear(784, 256)\n",
        "```\n",
        "\n",
        "This line creates a module for a linear transformation, $x\\mathbf{W} + b$, with 784 inputs and 256 outputs and assigns it to `self.hidden`. The module automatically creates the weight and bias tensors which we'll use in the `forward` method. You can access the weight and bias tensors once the network (`net`) is created with `net.hidden.weight` and `net.hidden.bias`.\n",
        "\n",
        "```python\n",
        "self.output = nn.Linear(256, 10)\n",
        "```\n",
        "\n",
        "Similarly, this creates another linear transformation with 256 inputs and 10 outputs.\n",
        "\n",
        "```python\n",
        "self.sigmoid = nn.Sigmoid()\n",
        "self.softmax = nn.Softmax(dim=1)\n",
        "```\n",
        "\n",
        "Here I defined operations for the sigmoid activation and softmax output. Setting `dim=1` in `nn.Softmax(dim=1)` calculates softmax across the columns.\n",
        "\n",
        "```python\n",
        "def forward(self, x):\n",
        "```\n",
        "\n",
        "PyTorch networks created with `nn.Module` must have a `forward` method defined. It takes in a tensor `x` and passes it through the operations you defined in the `__init__` method.\n",
        "\n",
        "```python\n",
        "x = self.hidden(x)\n",
        "x = self.sigmoid(x)\n",
        "x = self.output(x)\n",
        "x = self.softmax(x)\n",
        "```\n",
        "\n",
        "Here the input tensor `x` is passed through each operation and reassigned to `x`. We can see that the input tensor goes through the hidden layer, then a sigmoid function, then the output layer, and finally the softmax function. It doesn't matter what you name the variables here, as long as the inputs and outputs of the operations match the network architecture you want to build. The order in which you define things in the `__init__` method doesn't matter, but you'll need to sequence the operations correctly in the `forward` method.\n",
        "\n",
        "Now we can create a `Network` object."
      ]
    },
    {
      "cell_type": "code",
      "metadata": {
        "id": "8v6tGXlaKNCx",
        "colab_type": "code",
        "colab": {
          "base_uri": "https://localhost:8080/",
          "height": 118
        },
        "outputId": "aafa3e20-03b8-47e7-8bc0-9a18f27f8ea7"
      },
      "source": [
        "# Create the network and look at it's text representation\n",
        "model = Network()\n",
        "model"
      ],
      "execution_count": 14,
      "outputs": [
        {
          "output_type": "execute_result",
          "data": {
            "text/plain": [
              "Network(\n",
              "  (hidden): Linear(in_features=784, out_features=256, bias=True)\n",
              "  (output): Linear(in_features=256, out_features=10, bias=True)\n",
              "  (sigmoid): Sigmoid()\n",
              "  (softmax): Softmax(dim=1)\n",
              ")"
            ]
          },
          "metadata": {
            "tags": []
          },
          "execution_count": 14
        }
      ]
    },
    {
      "cell_type": "markdown",
      "metadata": {
        "id": "buM5ZrghKNC5",
        "colab_type": "text"
      },
      "source": [
        "You can define the network somewhat more concisely and clearly using the `torch.nn.functional` module. This is the most common way you'll see networks defined as many operations are simple element-wise functions. We normally import this module as `F`, `import torch.nn.functional as F`."
      ]
    },
    {
      "cell_type": "code",
      "metadata": {
        "id": "ZlsEJo2EKNC6",
        "colab_type": "code",
        "colab": {}
      },
      "source": [
        "import torch.nn.functional as F\n",
        "\n",
        "class Network(nn.Module):\n",
        "    def __init__(self):\n",
        "        super().__init__()\n",
        "        # Inputs to hidden layer linear transformation\n",
        "        self.hidden = nn.Linear(784, 256)\n",
        "        # Output layer, 10 units - one for each digit\n",
        "        self.output = nn.Linear(256, 10)\n",
        "        \n",
        "    def forward(self, x):\n",
        "        # Hidden layer with sigmoid activation\n",
        "        x = F.sigmoid(self.hidden(x))\n",
        "        # Output layer with softmax activation\n",
        "        x = F.softmax(self.output(x), dim=1)\n",
        "        \n",
        "        return x"
      ],
      "execution_count": 0,
      "outputs": []
    },
    {
      "cell_type": "markdown",
      "metadata": {
        "id": "SM0NsofsKNC_",
        "colab_type": "text"
      },
      "source": [
        "### Activation functions\n",
        "\n",
        "So far we've only been looking at the sigmoid activation function, but in general any function can be used as an activation function. The only requirement is that for a network to approximate a non-linear function, the activation functions must be non-linear. Here are a few more examples of common activation functions: Tanh (hyperbolic tangent), and ReLU (rectified linear unit).\n",
        "\n",
        "<img src=\"https://github.com/udacity/deep-learning-v2-pytorch/blob/master/intro-to-pytorch/assets/activation.png?raw=1\" width=700px>\n",
        "\n",
        "In practice, the ReLU function is used almost exclusively as the activation function for hidden layers."
      ]
    },
    {
      "cell_type": "markdown",
      "metadata": {
        "id": "oRplokhOKNDB",
        "colab_type": "text"
      },
      "source": [
        "### Your Turn to Build a Network\n",
        "\n",
        "<img src=\"https://github.com/udacity/deep-learning-v2-pytorch/blob/master/intro-to-pytorch/assets/mlp_mnist.png?raw=1\" width=600px>\n",
        "\n",
        "> **Exercise:** Create a network with 784 input units, a hidden layer with 128 units and a ReLU activation, then a hidden layer with 64 units and a ReLU activation, and finally an output layer with a softmax activation as shown above. You can use a ReLU activation with the `nn.ReLU` module or `F.relu` function.\n",
        "\n",
        "It's good practice to name your layers by their type of network, for instance 'fc' to represent a fully-connected layer. As you code your solution, use `fc1`, `fc2`, and `fc3` as your layer names."
      ]
    },
    {
      "cell_type": "code",
      "metadata": {
        "scrolled": true,
        "id": "yxmS_20eKNDD",
        "colab_type": "code",
        "colab": {
          "base_uri": "https://localhost:8080/",
          "height": 101
        },
        "outputId": "e386b707-cd71-446d-cc84-a3f26dd1fbd9"
      },
      "source": [
        "## Your solution here\n",
        "class Network(nn.Module):\n",
        "  def __init__(self):\n",
        "    super().__init__()\n",
        "    #Defining the layers, 128,64,10 units each\n",
        "    self.fc1=nn.Linear(784,128)\n",
        "    self.fc2=nn.Linear(128,64)\n",
        "    #op layer, 10 units - one for each digit\n",
        "    self.fc3=nn.Linear(64,10)\n",
        "  def forward(self,x):\n",
        "    x=self.fc1(x)\n",
        "    x=F.relu(x)\n",
        "    x=self.fc2(x)\n",
        "    x=F.relu(x)\n",
        "    x=F.softmax(x,dim=1)\n",
        "    return x\n",
        "model=Network()\n",
        "model      "
      ],
      "execution_count": 18,
      "outputs": [
        {
          "output_type": "execute_result",
          "data": {
            "text/plain": [
              "Network(\n",
              "  (fc1): Linear(in_features=784, out_features=128, bias=True)\n",
              "  (fc2): Linear(in_features=128, out_features=64, bias=True)\n",
              "  (fc3): Linear(in_features=64, out_features=10, bias=True)\n",
              ")"
            ]
          },
          "metadata": {
            "tags": []
          },
          "execution_count": 18
        }
      ]
    },
    {
      "cell_type": "markdown",
      "metadata": {
        "id": "wGbvqrZ9KNDI",
        "colab_type": "text"
      },
      "source": [
        "### Initializing weights and biases\n",
        "\n",
        "The weights and such are automatically initialized for you, but it's possible to customize how they are initialized. The weights and biases are tensors attached to the layer you defined, you can get them with `model.fc1.weight` for instance."
      ]
    },
    {
      "cell_type": "code",
      "metadata": {
        "id": "WrkcLHRnKNDJ",
        "colab_type": "code",
        "colab": {
          "base_uri": "https://localhost:8080/",
          "height": 470
        },
        "outputId": "96b80195-d564-4790-d4b0-025296935134"
      },
      "source": [
        "print(model.fc1.weight)\n",
        "print(model.fc1.bias)"
      ],
      "execution_count": 19,
      "outputs": [
        {
          "output_type": "stream",
          "text": [
            "Parameter containing:\n",
            "tensor([[ 0.0227,  0.0352,  0.0281,  ..., -0.0080, -0.0049,  0.0283],\n",
            "        [ 0.0133,  0.0149, -0.0041,  ...,  0.0351,  0.0132, -0.0063],\n",
            "        [-0.0072,  0.0078, -0.0278,  ...,  0.0089, -0.0118, -0.0056],\n",
            "        ...,\n",
            "        [-0.0272,  0.0043, -0.0357,  ..., -0.0304, -0.0149, -0.0205],\n",
            "        [-0.0224, -0.0077,  0.0211,  ...,  0.0320, -0.0073, -0.0311],\n",
            "        [-0.0027,  0.0247, -0.0089,  ...,  0.0014, -0.0025,  0.0158]],\n",
            "       requires_grad=True)\n",
            "Parameter containing:\n",
            "tensor([-0.0043,  0.0154,  0.0029,  0.0106,  0.0195, -0.0090, -0.0192, -0.0194,\n",
            "         0.0247, -0.0225,  0.0048,  0.0224,  0.0076, -0.0001,  0.0074,  0.0287,\n",
            "        -0.0096,  0.0299,  0.0286, -0.0182, -0.0183, -0.0309,  0.0296,  0.0357,\n",
            "        -0.0345, -0.0078, -0.0325,  0.0019, -0.0313, -0.0340,  0.0020,  0.0049,\n",
            "        -0.0222,  0.0290,  0.0197,  0.0305,  0.0147, -0.0212, -0.0035, -0.0225,\n",
            "        -0.0282, -0.0233, -0.0118, -0.0019, -0.0226, -0.0155, -0.0264, -0.0142,\n",
            "         0.0302,  0.0141, -0.0097,  0.0035, -0.0329, -0.0015, -0.0076,  0.0067,\n",
            "         0.0108, -0.0129,  0.0102, -0.0108,  0.0346,  0.0060, -0.0189, -0.0037,\n",
            "        -0.0008, -0.0018,  0.0275, -0.0188,  0.0167,  0.0226,  0.0178,  0.0253,\n",
            "        -0.0062, -0.0230, -0.0336,  0.0315,  0.0217,  0.0268,  0.0149, -0.0043,\n",
            "         0.0064, -0.0002,  0.0184, -0.0150,  0.0202, -0.0208, -0.0125, -0.0147,\n",
            "         0.0244,  0.0157, -0.0054, -0.0259,  0.0119, -0.0124, -0.0003,  0.0229,\n",
            "         0.0066,  0.0224,  0.0132,  0.0067, -0.0355,  0.0184, -0.0132,  0.0352,\n",
            "        -0.0197,  0.0063,  0.0023, -0.0270,  0.0102, -0.0247, -0.0154, -0.0307,\n",
            "        -0.0105,  0.0235,  0.0280,  0.0241,  0.0153,  0.0352,  0.0245,  0.0291,\n",
            "        -0.0084, -0.0262,  0.0241,  0.0295,  0.0208,  0.0066, -0.0343, -0.0147],\n",
            "       requires_grad=True)\n"
          ],
          "name": "stdout"
        }
      ]
    },
    {
      "cell_type": "markdown",
      "metadata": {
        "id": "xUP87Gf0KNDN",
        "colab_type": "text"
      },
      "source": [
        "For custom initialization, we want to modify these tensors in place. These are actually autograd *Variables*, so we need to get back the actual tensors with `model.fc1.weight.data`. Once we have the tensors, we can fill them with zeros (for biases) or random normal values."
      ]
    },
    {
      "cell_type": "code",
      "metadata": {
        "id": "IwnFD48XKNDP",
        "colab_type": "code",
        "colab": {
          "base_uri": "https://localhost:8080/",
          "height": 138
        },
        "outputId": "f7959ef8-92b9-4989-c007-65eb09f6fbe8"
      },
      "source": [
        "# Set biases to all zeros\n",
        "model.fc1.bias.data.fill_(0)"
      ],
      "execution_count": 20,
      "outputs": [
        {
          "output_type": "execute_result",
          "data": {
            "text/plain": [
              "tensor([0., 0., 0., 0., 0., 0., 0., 0., 0., 0., 0., 0., 0., 0., 0., 0., 0., 0., 0., 0., 0., 0., 0., 0.,\n",
              "        0., 0., 0., 0., 0., 0., 0., 0., 0., 0., 0., 0., 0., 0., 0., 0., 0., 0., 0., 0., 0., 0., 0., 0.,\n",
              "        0., 0., 0., 0., 0., 0., 0., 0., 0., 0., 0., 0., 0., 0., 0., 0., 0., 0., 0., 0., 0., 0., 0., 0.,\n",
              "        0., 0., 0., 0., 0., 0., 0., 0., 0., 0., 0., 0., 0., 0., 0., 0., 0., 0., 0., 0., 0., 0., 0., 0.,\n",
              "        0., 0., 0., 0., 0., 0., 0., 0., 0., 0., 0., 0., 0., 0., 0., 0., 0., 0., 0., 0., 0., 0., 0., 0.,\n",
              "        0., 0., 0., 0., 0., 0., 0., 0.])"
            ]
          },
          "metadata": {
            "tags": []
          },
          "execution_count": 20
        }
      ]
    },
    {
      "cell_type": "code",
      "metadata": {
        "id": "ctR0MRrxKNDT",
        "colab_type": "code",
        "colab": {
          "base_uri": "https://localhost:8080/",
          "height": 134
        },
        "outputId": "a0f1ec61-3378-46ac-aa92-3e9b3a676c31"
      },
      "source": [
        "# sample from random normal with standard dev = 0.01\n",
        "model.fc1.weight.data.normal_(std=0.01)"
      ],
      "execution_count": 21,
      "outputs": [
        {
          "output_type": "execute_result",
          "data": {
            "text/plain": [
              "tensor([[ 0.0092,  0.0162, -0.0140,  ...,  0.0129, -0.0173,  0.0076],\n",
              "        [ 0.0020, -0.0154, -0.0051,  ...,  0.0022,  0.0004, -0.0080],\n",
              "        [-0.0014, -0.0011, -0.0014,  ..., -0.0125, -0.0035,  0.0073],\n",
              "        ...,\n",
              "        [-0.0050,  0.0009, -0.0047,  ...,  0.0039,  0.0065, -0.0080],\n",
              "        [ 0.0061,  0.0075,  0.0085,  ...,  0.0113, -0.0170,  0.0054],\n",
              "        [-0.0162,  0.0013, -0.0063,  ..., -0.0119,  0.0015,  0.0014]])"
            ]
          },
          "metadata": {
            "tags": []
          },
          "execution_count": 21
        }
      ]
    },
    {
      "cell_type": "markdown",
      "metadata": {
        "id": "tu_6o0p8KNDX",
        "colab_type": "text"
      },
      "source": [
        "### Forward pass\n",
        "\n",
        "Now that we have a network, let's see what happens when we pass in an image."
      ]
    },
    {
      "cell_type": "code",
      "metadata": {
        "id": "kyprYqpOKNDZ",
        "colab_type": "code",
        "colab": {
          "base_uri": "https://localhost:8080/",
          "height": 195
        },
        "outputId": "5f777e9e-0914-4aa9-ac32-925d72bfeb4f"
      },
      "source": [
        "# Grab some data \n",
        "dataiter = iter(trainloader)\n",
        "images, labels = dataiter.next()\n",
        "\n",
        "# Resize images into a 1D vector, new shape is (batch size, color channels, image pixels) \n",
        "images.resize_(64, 1, 784)\n",
        "# or images.resize_(images.shape[0], 1, 784) to automatically get batch size\n",
        "\n",
        "# Forward pass through the network\n",
        "img_idx = 0\n",
        "ps = model.forward(images[img_idx,:])\n",
        "\n",
        "img = images[img_idx]\n",
        "helper.view_classify(img.view(1, 28, 28), ps)"
      ],
      "execution_count": 22,
      "outputs": [
        {
          "output_type": "error",
          "ename": "AttributeError",
          "evalue": "ignored",
          "traceback": [
            "\u001b[0;31m---------------------------------------------------------------------------\u001b[0m",
            "\u001b[0;31mAttributeError\u001b[0m                            Traceback (most recent call last)",
            "\u001b[0;32m<ipython-input-22-07a71317f718>\u001b[0m in \u001b[0;36m<module>\u001b[0;34m()\u001b[0m\n\u001b[1;32m     11\u001b[0m \u001b[0;34m\u001b[0m\u001b[0m\n\u001b[1;32m     12\u001b[0m \u001b[0mimg\u001b[0m \u001b[0;34m=\u001b[0m \u001b[0mimages\u001b[0m\u001b[0;34m[\u001b[0m\u001b[0mimg_idx\u001b[0m\u001b[0;34m]\u001b[0m\u001b[0;34m\u001b[0m\u001b[0;34m\u001b[0m\u001b[0m\n\u001b[0;32m---> 13\u001b[0;31m \u001b[0mhelper\u001b[0m\u001b[0;34m.\u001b[0m\u001b[0mview_classify\u001b[0m\u001b[0;34m(\u001b[0m\u001b[0mimg\u001b[0m\u001b[0;34m.\u001b[0m\u001b[0mview\u001b[0m\u001b[0;34m(\u001b[0m\u001b[0;36m1\u001b[0m\u001b[0;34m,\u001b[0m \u001b[0;36m28\u001b[0m\u001b[0;34m,\u001b[0m \u001b[0;36m28\u001b[0m\u001b[0;34m)\u001b[0m\u001b[0;34m,\u001b[0m \u001b[0mps\u001b[0m\u001b[0;34m)\u001b[0m\u001b[0;34m\u001b[0m\u001b[0;34m\u001b[0m\u001b[0m\n\u001b[0m",
            "\u001b[0;31mAttributeError\u001b[0m: module 'helper' has no attribute 'view_classify'"
          ]
        }
      ]
    },
    {
      "cell_type": "markdown",
      "metadata": {
        "id": "wuqrEepQKNDd",
        "colab_type": "text"
      },
      "source": [
        "As you can see above, our network has basically no idea what this digit is. It's because we haven't trained it yet, all the weights are random!\n",
        "\n",
        "### Using `nn.Sequential`\n",
        "\n",
        "PyTorch provides a convenient way to build networks like this where a tensor is passed sequentially through operations, `nn.Sequential` ([documentation](https://pytorch.org/docs/master/nn.html#torch.nn.Sequential)). Using this to build the equivalent network:"
      ]
    },
    {
      "cell_type": "code",
      "metadata": {
        "id": "KmEbSXhQKNDf",
        "colab_type": "code",
        "colab": {
          "base_uri": "https://localhost:8080/",
          "height": 330
        },
        "outputId": "f6433fd2-3096-4f7d-e6ec-28c7c73c37ea"
      },
      "source": [
        "# Hyperparameters for our network\n",
        "input_size = 784\n",
        "hidden_sizes = [128, 64]\n",
        "output_size = 10\n",
        "\n",
        "# Build a feed-forward network\n",
        "model = nn.Sequential(nn.Linear(input_size, hidden_sizes[0]),\n",
        "                      nn.ReLU(),\n",
        "                      nn.Linear(hidden_sizes[0], hidden_sizes[1]),\n",
        "                      nn.ReLU(),\n",
        "                      nn.Linear(hidden_sizes[1], output_size),\n",
        "                      nn.Softmax(dim=1))\n",
        "print(model)\n",
        "\n",
        "# Forward pass through the network and display output\n",
        "images, labels = next(iter(trainloader))\n",
        "images.resize_(images.shape[0], 1, 784)\n",
        "ps = model.forward(images[0,:])\n",
        "helper.view_classify(images[0].view(1, 28, 28), ps)"
      ],
      "execution_count": 23,
      "outputs": [
        {
          "output_type": "stream",
          "text": [
            "Sequential(\n",
            "  (0): Linear(in_features=784, out_features=128, bias=True)\n",
            "  (1): ReLU()\n",
            "  (2): Linear(in_features=128, out_features=64, bias=True)\n",
            "  (3): ReLU()\n",
            "  (4): Linear(in_features=64, out_features=10, bias=True)\n",
            "  (5): Softmax(dim=1)\n",
            ")\n"
          ],
          "name": "stdout"
        },
        {
          "output_type": "error",
          "ename": "AttributeError",
          "evalue": "ignored",
          "traceback": [
            "\u001b[0;31m---------------------------------------------------------------------------\u001b[0m",
            "\u001b[0;31mAttributeError\u001b[0m                            Traceback (most recent call last)",
            "\u001b[0;32m<ipython-input-23-c280e5febbb4>\u001b[0m in \u001b[0;36m<module>\u001b[0;34m()\u001b[0m\n\u001b[1;32m     16\u001b[0m \u001b[0mimages\u001b[0m\u001b[0;34m.\u001b[0m\u001b[0mresize_\u001b[0m\u001b[0;34m(\u001b[0m\u001b[0mimages\u001b[0m\u001b[0;34m.\u001b[0m\u001b[0mshape\u001b[0m\u001b[0;34m[\u001b[0m\u001b[0;36m0\u001b[0m\u001b[0;34m]\u001b[0m\u001b[0;34m,\u001b[0m \u001b[0;36m1\u001b[0m\u001b[0;34m,\u001b[0m \u001b[0;36m784\u001b[0m\u001b[0;34m)\u001b[0m\u001b[0;34m\u001b[0m\u001b[0;34m\u001b[0m\u001b[0m\n\u001b[1;32m     17\u001b[0m \u001b[0mps\u001b[0m \u001b[0;34m=\u001b[0m \u001b[0mmodel\u001b[0m\u001b[0;34m.\u001b[0m\u001b[0mforward\u001b[0m\u001b[0;34m(\u001b[0m\u001b[0mimages\u001b[0m\u001b[0;34m[\u001b[0m\u001b[0;36m0\u001b[0m\u001b[0;34m,\u001b[0m\u001b[0;34m:\u001b[0m\u001b[0;34m]\u001b[0m\u001b[0;34m)\u001b[0m\u001b[0;34m\u001b[0m\u001b[0;34m\u001b[0m\u001b[0m\n\u001b[0;32m---> 18\u001b[0;31m \u001b[0mhelper\u001b[0m\u001b[0;34m.\u001b[0m\u001b[0mview_classify\u001b[0m\u001b[0;34m(\u001b[0m\u001b[0mimages\u001b[0m\u001b[0;34m[\u001b[0m\u001b[0;36m0\u001b[0m\u001b[0;34m]\u001b[0m\u001b[0;34m.\u001b[0m\u001b[0mview\u001b[0m\u001b[0;34m(\u001b[0m\u001b[0;36m1\u001b[0m\u001b[0;34m,\u001b[0m \u001b[0;36m28\u001b[0m\u001b[0;34m,\u001b[0m \u001b[0;36m28\u001b[0m\u001b[0;34m)\u001b[0m\u001b[0;34m,\u001b[0m \u001b[0mps\u001b[0m\u001b[0;34m)\u001b[0m\u001b[0;34m\u001b[0m\u001b[0;34m\u001b[0m\u001b[0m\n\u001b[0m",
            "\u001b[0;31mAttributeError\u001b[0m: module 'helper' has no attribute 'view_classify'"
          ]
        }
      ]
    },
    {
      "cell_type": "markdown",
      "metadata": {
        "id": "ZPWUQys0KNDr",
        "colab_type": "text"
      },
      "source": [
        "Here our model is the same as before: 784 input units, a hidden layer with 128 units, ReLU activation, 64 unit hidden layer, another ReLU, then the output layer with 10 units, and the softmax output.\n",
        "\n",
        "The operations are available by passing in the appropriate index. For example, if you want to get first Linear operation and look at the weights, you'd use `model[0]`."
      ]
    },
    {
      "cell_type": "code",
      "metadata": {
        "id": "Uu37IJM3KNDs",
        "colab_type": "code",
        "colab": {
          "base_uri": "https://localhost:8080/",
          "height": 185
        },
        "outputId": "2327efe6-fc00-409c-cd3b-abcc751c3860"
      },
      "source": [
        "print(model[0])\n",
        "model[0].weight"
      ],
      "execution_count": 24,
      "outputs": [
        {
          "output_type": "stream",
          "text": [
            "Linear(in_features=784, out_features=128, bias=True)\n"
          ],
          "name": "stdout"
        },
        {
          "output_type": "execute_result",
          "data": {
            "text/plain": [
              "Parameter containing:\n",
              "tensor([[ 0.0311, -0.0156,  0.0019,  ..., -0.0308,  0.0180,  0.0290],\n",
              "        [ 0.0146,  0.0062, -0.0080,  ...,  0.0292,  0.0218,  0.0292],\n",
              "        [ 0.0048,  0.0212,  0.0135,  ..., -0.0124, -0.0133, -0.0182],\n",
              "        ...,\n",
              "        [-0.0277,  0.0119,  0.0230,  ..., -0.0028, -0.0140, -0.0187],\n",
              "        [ 0.0258,  0.0248, -0.0031,  ..., -0.0144, -0.0344, -0.0171],\n",
              "        [ 0.0039, -0.0285,  0.0113,  ...,  0.0202,  0.0252, -0.0153]],\n",
              "       requires_grad=True)"
            ]
          },
          "metadata": {
            "tags": []
          },
          "execution_count": 24
        }
      ]
    },
    {
      "cell_type": "markdown",
      "metadata": {
        "id": "r4nZBfbtKNDx",
        "colab_type": "text"
      },
      "source": [
        "You can also pass in an `OrderedDict` to name the individual layers and operations, instead of using incremental integers. Note that dictionary keys must be unique, so _each operation must have a different name_."
      ]
    },
    {
      "cell_type": "code",
      "metadata": {
        "id": "ZRWql0eFKNDy",
        "colab_type": "code",
        "colab": {
          "base_uri": "https://localhost:8080/",
          "height": 151
        },
        "outputId": "64d8629b-ba9a-4cfa-acde-f0486604c090"
      },
      "source": [
        "from collections import OrderedDict\n",
        "model = nn.Sequential(OrderedDict([\n",
        "                      ('fc1', nn.Linear(input_size, hidden_sizes[0])),\n",
        "                      ('relu1', nn.ReLU()),\n",
        "                      ('fc2', nn.Linear(hidden_sizes[0], hidden_sizes[1])),\n",
        "                      ('relu2', nn.ReLU()),\n",
        "                      ('output', nn.Linear(hidden_sizes[1], output_size)),\n",
        "                      ('softmax', nn.Softmax(dim=1))]))\n",
        "model"
      ],
      "execution_count": 25,
      "outputs": [
        {
          "output_type": "execute_result",
          "data": {
            "text/plain": [
              "Sequential(\n",
              "  (fc1): Linear(in_features=784, out_features=128, bias=True)\n",
              "  (relu1): ReLU()\n",
              "  (fc2): Linear(in_features=128, out_features=64, bias=True)\n",
              "  (relu2): ReLU()\n",
              "  (output): Linear(in_features=64, out_features=10, bias=True)\n",
              "  (softmax): Softmax(dim=1)\n",
              ")"
            ]
          },
          "metadata": {
            "tags": []
          },
          "execution_count": 25
        }
      ]
    },
    {
      "cell_type": "markdown",
      "metadata": {
        "id": "nv9BoqGJKND2",
        "colab_type": "text"
      },
      "source": [
        "Now you can access layers either by integer or the name"
      ]
    },
    {
      "cell_type": "code",
      "metadata": {
        "id": "hMaUkmSKKND4",
        "colab_type": "code",
        "colab": {
          "base_uri": "https://localhost:8080/",
          "height": 50
        },
        "outputId": "d066a30e-cdfd-4b69-a60d-a4018936bae7"
      },
      "source": [
        "print(model[0])\n",
        "print(model.fc1)"
      ],
      "execution_count": 26,
      "outputs": [
        {
          "output_type": "stream",
          "text": [
            "Linear(in_features=784, out_features=128, bias=True)\n",
            "Linear(in_features=784, out_features=128, bias=True)\n"
          ],
          "name": "stdout"
        }
      ]
    },
    {
      "cell_type": "markdown",
      "metadata": {
        "id": "I9zRGb3vKND-",
        "colab_type": "text"
      },
      "source": [
        "In the next notebook, we'll see how we can train a neural network to accuractly predict the numbers appearing in the MNIST images."
      ]
    }
  ]
}